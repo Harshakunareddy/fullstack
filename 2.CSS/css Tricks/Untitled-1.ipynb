{
 "cells": [
  {
   "cell_type": "code",
   "execution_count": 1,
   "metadata": {},
   "outputs": [
    {
     "name": "stdout",
     "output_type": "stream",
     "text": [
      "dataframe     a  b  c\n",
      "1   1  2  3\n",
      "2  12  4  3\n",
      "3   3  2  4\n",
      "4   1  5  6\n"
     ]
    }
   ],
   "source": [
    "import pandas as pd\n",
    "import numpy as np\n",
    "from pandas import DataFrame,Series\n",
    "from matplotlib.pyplot import plot\n",
    "df = pd.DataFrame([\n",
    "    [1,2,3],[12,4,3],[3,2,4],[1,5,6]\n",
    "],index = [1,2,3,4] , columns = [\"a\",\"b\",\"c\"])\n",
    "print(\"dataframe\",df)"
   ]
  },
  {
   "cell_type": "code",
   "execution_count": 1,
   "metadata": {},
   "outputs": [
    {
     "ename": "KeyboardInterrupt",
     "evalue": "",
     "output_type": "error",
     "traceback": [
      "\u001b[1;31m---------------------------------------------------------------------------\u001b[0m",
      "\u001b[1;31mKeyboardInterrupt\u001b[0m                         Traceback (most recent call last)",
      "Cell \u001b[1;32mIn[1], line 1\u001b[0m\n\u001b[1;32m----> 1\u001b[0m \u001b[39mimport\u001b[39;00m \u001b[39mpandas\u001b[39;00m \u001b[39mas\u001b[39;00m \u001b[39mpd\u001b[39;00m\n\u001b[0;32m      2\u001b[0m \u001b[39mimport\u001b[39;00m \u001b[39mnumpy\u001b[39;00m \u001b[39mas\u001b[39;00m \u001b[39mnp\u001b[39;00m\n\u001b[0;32m      3\u001b[0m \u001b[39mfrom\u001b[39;00m \u001b[39mpandas\u001b[39;00m \u001b[39mimport\u001b[39;00m DataFrame,Series\n",
      "File \u001b[1;32mc:\\Users\\Harsha Vardhan\\AppData\\Local\\Programs\\Python\\Python39\\lib\\site-packages\\pandas\\__init__.py:138\u001b[0m\n\u001b[0;32m    135\u001b[0m \u001b[39mfrom\u001b[39;00m \u001b[39mpandas\u001b[39;00m \u001b[39mimport\u001b[39;00m api, arrays, errors, io, plotting, testing, tseries\n\u001b[0;32m    136\u001b[0m \u001b[39mfrom\u001b[39;00m \u001b[39mpandas\u001b[39;00m\u001b[39m.\u001b[39;00m\u001b[39mutil\u001b[39;00m\u001b[39m.\u001b[39;00m\u001b[39m_print_versions\u001b[39;00m \u001b[39mimport\u001b[39;00m show_versions\n\u001b[1;32m--> 138\u001b[0m \u001b[39mfrom\u001b[39;00m \u001b[39mpandas\u001b[39;00m\u001b[39m.\u001b[39;00m\u001b[39mio\u001b[39;00m\u001b[39m.\u001b[39;00m\u001b[39mapi\u001b[39;00m \u001b[39mimport\u001b[39;00m (\n\u001b[0;32m    139\u001b[0m     \u001b[39m# excel\u001b[39;00m\n\u001b[0;32m    140\u001b[0m     ExcelFile,\n\u001b[0;32m    141\u001b[0m     ExcelWriter,\n\u001b[0;32m    142\u001b[0m     read_excel,\n\u001b[0;32m    143\u001b[0m     \u001b[39m# parsers\u001b[39;00m\n\u001b[0;32m    144\u001b[0m     read_csv,\n\u001b[0;32m    145\u001b[0m     read_fwf,\n\u001b[0;32m    146\u001b[0m     read_table,\n\u001b[0;32m    147\u001b[0m     \u001b[39m# pickle\u001b[39;00m\n\u001b[0;32m    148\u001b[0m     read_pickle,\n\u001b[0;32m    149\u001b[0m     to_pickle,\n\u001b[0;32m    150\u001b[0m     \u001b[39m# pytables\u001b[39;00m\n\u001b[0;32m    151\u001b[0m     HDFStore,\n\u001b[0;32m    152\u001b[0m     read_hdf,\n\u001b[0;32m    153\u001b[0m     \u001b[39m# sql\u001b[39;00m\n\u001b[0;32m    154\u001b[0m     read_sql,\n\u001b[0;32m    155\u001b[0m     read_sql_query,\n\u001b[0;32m    156\u001b[0m     read_sql_table,\n\u001b[0;32m    157\u001b[0m     \u001b[39m# misc\u001b[39;00m\n\u001b[0;32m    158\u001b[0m     read_clipboard,\n\u001b[0;32m    159\u001b[0m     read_parquet,\n\u001b[0;32m    160\u001b[0m     read_orc,\n\u001b[0;32m    161\u001b[0m     read_feather,\n\u001b[0;32m    162\u001b[0m     read_gbq,\n\u001b[0;32m    163\u001b[0m     read_html,\n\u001b[0;32m    164\u001b[0m     read_xml,\n\u001b[0;32m    165\u001b[0m     read_json,\n\u001b[0;32m    166\u001b[0m     read_stata,\n\u001b[0;32m    167\u001b[0m     read_sas,\n\u001b[0;32m    168\u001b[0m     read_spss,\n\u001b[0;32m    169\u001b[0m )\n\u001b[0;32m    171\u001b[0m \u001b[39mfrom\u001b[39;00m \u001b[39mpandas\u001b[39;00m\u001b[39m.\u001b[39;00m\u001b[39mio\u001b[39;00m\u001b[39m.\u001b[39;00m\u001b[39mjson\u001b[39;00m \u001b[39mimport\u001b[39;00m _json_normalize \u001b[39mas\u001b[39;00m json_normalize\n\u001b[0;32m    173\u001b[0m \u001b[39mfrom\u001b[39;00m \u001b[39mpandas\u001b[39;00m\u001b[39m.\u001b[39;00m\u001b[39mutil\u001b[39;00m\u001b[39m.\u001b[39;00m\u001b[39m_tester\u001b[39;00m \u001b[39mimport\u001b[39;00m test\n",
      "File \u001b[1;32mc:\\Users\\Harsha Vardhan\\AppData\\Local\\Programs\\Python\\Python39\\lib\\site-packages\\pandas\\io\\api.py:16\u001b[0m\n\u001b[0;32m     14\u001b[0m \u001b[39mfrom\u001b[39;00m \u001b[39mpandas\u001b[39;00m\u001b[39m.\u001b[39;00m\u001b[39mio\u001b[39;00m\u001b[39m.\u001b[39;00m\u001b[39mgbq\u001b[39;00m \u001b[39mimport\u001b[39;00m read_gbq\n\u001b[0;32m     15\u001b[0m \u001b[39mfrom\u001b[39;00m \u001b[39mpandas\u001b[39;00m\u001b[39m.\u001b[39;00m\u001b[39mio\u001b[39;00m\u001b[39m.\u001b[39;00m\u001b[39mhtml\u001b[39;00m \u001b[39mimport\u001b[39;00m read_html\n\u001b[1;32m---> 16\u001b[0m \u001b[39mfrom\u001b[39;00m \u001b[39mpandas\u001b[39;00m\u001b[39m.\u001b[39;00m\u001b[39mio\u001b[39;00m\u001b[39m.\u001b[39;00m\u001b[39mjson\u001b[39;00m \u001b[39mimport\u001b[39;00m read_json\n\u001b[0;32m     17\u001b[0m \u001b[39mfrom\u001b[39;00m \u001b[39mpandas\u001b[39;00m\u001b[39m.\u001b[39;00m\u001b[39mio\u001b[39;00m\u001b[39m.\u001b[39;00m\u001b[39morc\u001b[39;00m \u001b[39mimport\u001b[39;00m read_orc\n\u001b[0;32m     18\u001b[0m \u001b[39mfrom\u001b[39;00m \u001b[39mpandas\u001b[39;00m\u001b[39m.\u001b[39;00m\u001b[39mio\u001b[39;00m\u001b[39m.\u001b[39;00m\u001b[39mparquet\u001b[39;00m \u001b[39mimport\u001b[39;00m read_parquet\n",
      "File \u001b[1;32mc:\\Users\\Harsha Vardhan\\AppData\\Local\\Programs\\Python\\Python39\\lib\\site-packages\\pandas\\io\\json\\__init__.py:1\u001b[0m\n\u001b[1;32m----> 1\u001b[0m \u001b[39mfrom\u001b[39;00m \u001b[39mpandas\u001b[39;00m\u001b[39m.\u001b[39;00m\u001b[39mio\u001b[39;00m\u001b[39m.\u001b[39;00m\u001b[39mjson\u001b[39;00m\u001b[39m.\u001b[39;00m\u001b[39m_json\u001b[39;00m \u001b[39mimport\u001b[39;00m (\n\u001b[0;32m      2\u001b[0m     dumps,\n\u001b[0;32m      3\u001b[0m     loads,\n\u001b[0;32m      4\u001b[0m     read_json,\n\u001b[0;32m      5\u001b[0m     to_json,\n\u001b[0;32m      6\u001b[0m )\n\u001b[0;32m      7\u001b[0m \u001b[39mfrom\u001b[39;00m \u001b[39mpandas\u001b[39;00m\u001b[39m.\u001b[39;00m\u001b[39mio\u001b[39;00m\u001b[39m.\u001b[39;00m\u001b[39mjson\u001b[39;00m\u001b[39m.\u001b[39;00m\u001b[39m_normalize\u001b[39;00m \u001b[39mimport\u001b[39;00m (\n\u001b[0;32m      8\u001b[0m     _json_normalize,\n\u001b[0;32m      9\u001b[0m     json_normalize,\n\u001b[0;32m     10\u001b[0m )\n\u001b[0;32m     11\u001b[0m \u001b[39mfrom\u001b[39;00m \u001b[39mpandas\u001b[39;00m\u001b[39m.\u001b[39;00m\u001b[39mio\u001b[39;00m\u001b[39m.\u001b[39;00m\u001b[39mjson\u001b[39;00m\u001b[39m.\u001b[39;00m\u001b[39m_table_schema\u001b[39;00m \u001b[39mimport\u001b[39;00m build_table_schema\n",
      "File \u001b[1;32mc:\\Users\\Harsha Vardhan\\AppData\\Local\\Programs\\Python\\Python39\\lib\\site-packages\\pandas\\io\\json\\_json.py:61\u001b[0m\n\u001b[0;32m     51\u001b[0m \u001b[39mfrom\u001b[39;00m \u001b[39mpandas\u001b[39;00m\u001b[39m.\u001b[39;00m\u001b[39mcore\u001b[39;00m\u001b[39m.\u001b[39;00m\u001b[39mshared_docs\u001b[39;00m \u001b[39mimport\u001b[39;00m _shared_docs\n\u001b[0;32m     53\u001b[0m \u001b[39mfrom\u001b[39;00m \u001b[39mpandas\u001b[39;00m\u001b[39m.\u001b[39;00m\u001b[39mio\u001b[39;00m\u001b[39m.\u001b[39;00m\u001b[39mcommon\u001b[39;00m \u001b[39mimport\u001b[39;00m (\n\u001b[0;32m     54\u001b[0m     IOHandles,\n\u001b[0;32m     55\u001b[0m     file_exists,\n\u001b[1;32m   (...)\u001b[0m\n\u001b[0;32m     59\u001b[0m     stringify_path,\n\u001b[0;32m     60\u001b[0m )\n\u001b[1;32m---> 61\u001b[0m \u001b[39mfrom\u001b[39;00m \u001b[39mpandas\u001b[39;00m\u001b[39m.\u001b[39;00m\u001b[39mio\u001b[39;00m\u001b[39m.\u001b[39;00m\u001b[39mjson\u001b[39;00m\u001b[39m.\u001b[39;00m\u001b[39m_normalize\u001b[39;00m \u001b[39mimport\u001b[39;00m convert_to_line_delimits\n\u001b[0;32m     62\u001b[0m \u001b[39mfrom\u001b[39;00m \u001b[39mpandas\u001b[39;00m\u001b[39m.\u001b[39;00m\u001b[39mio\u001b[39;00m\u001b[39m.\u001b[39;00m\u001b[39mjson\u001b[39;00m\u001b[39m.\u001b[39;00m\u001b[39m_table_schema\u001b[39;00m \u001b[39mimport\u001b[39;00m (\n\u001b[0;32m     63\u001b[0m     build_table_schema,\n\u001b[0;32m     64\u001b[0m     parse_table_schema,\n\u001b[0;32m     65\u001b[0m )\n\u001b[0;32m     66\u001b[0m \u001b[39mfrom\u001b[39;00m \u001b[39mpandas\u001b[39;00m\u001b[39m.\u001b[39;00m\u001b[39mio\u001b[39;00m\u001b[39m.\u001b[39;00m\u001b[39mparsers\u001b[39;00m\u001b[39m.\u001b[39;00m\u001b[39mreaders\u001b[39;00m \u001b[39mimport\u001b[39;00m validate_integer\n",
      "File \u001b[1;32m<frozen importlib._bootstrap>:1007\u001b[0m, in \u001b[0;36m_find_and_load\u001b[1;34m(name, import_)\u001b[0m\n",
      "File \u001b[1;32m<frozen importlib._bootstrap>:986\u001b[0m, in \u001b[0;36m_find_and_load_unlocked\u001b[1;34m(name, import_)\u001b[0m\n",
      "File \u001b[1;32m<frozen importlib._bootstrap>:680\u001b[0m, in \u001b[0;36m_load_unlocked\u001b[1;34m(spec)\u001b[0m\n",
      "File \u001b[1;32m<frozen importlib._bootstrap_external>:786\u001b[0m, in \u001b[0;36mexec_module\u001b[1;34m(self, module)\u001b[0m\n",
      "File \u001b[1;32m<frozen importlib._bootstrap_external>:881\u001b[0m, in \u001b[0;36mget_code\u001b[1;34m(self, fullname)\u001b[0m\n",
      "File \u001b[1;32m<frozen importlib._bootstrap_external>:980\u001b[0m, in \u001b[0;36mget_data\u001b[1;34m(self, path)\u001b[0m\n",
      "\u001b[1;31mKeyboardInterrupt\u001b[0m: "
     ]
    }
   ],
   "source": [
    "import pandas as pd\n",
    "import numpy as np\n",
    "from pandas import DataFrame,Series\n",
    "from matplotlib.pyplot import plot\n",
    "df = pd.DataFrame([\n",
    "    [1,2,3],[12,4,3],[3,2,4],[1,5,6]\n",
    "],index = [1,2,3,4] , columns = [\"a\",\"b\",\"c\"])\n",
    "print(\"dataframe\",df)\n",
    "print(\"info about the dataFrame/n\",df.info())"
   ]
  },
  {
   "cell_type": "code",
   "execution_count": 22,
   "metadata": {},
   "outputs": [
    {
     "name": "stdout",
     "output_type": "stream",
     "text": [
      "dataframe\n",
      "     a  b  c\n",
      "1   1  2  3\n",
      "2  12  4  3\n",
      "3   3  2  4\n",
      "4   1  5  6\n",
      "<class 'pandas.core.frame.DataFrame'>\n",
      "Int64Index: 4 entries, 1 to 4\n",
      "Data columns (total 3 columns):\n",
      " #   Column  Non-Null Count  Dtype\n",
      "---  ------  --------------  -----\n",
      " 0   a       4 non-null      int64\n",
      " 1   b       4 non-null      int64\n",
      " 2   c       4 non-null      int64\n",
      "dtypes: int64(3)\n",
      "memory usage: 128.0 bytes\n",
      "info about the dataFrame\n",
      " None\n",
      "Head\n",
      "     a  b  c\n",
      "1   1  2  3\n",
      "2  12  4  3\n",
      "Tail\n",
      "    a  b  c\n",
      "3  3  2  4\n",
      "4  1  5  6\n",
      "Describe\n",
      "                a     b         c\n",
      "count   4.000000  4.00  4.000000\n",
      "mean    4.250000  3.25  4.000000\n",
      "std     5.251984  1.50  1.414214\n",
      "min     1.000000  2.00  3.000000\n",
      "25%     1.000000  2.00  3.000000\n",
      "50%     2.000000  3.00  3.500000\n",
      "75%     5.250000  4.25  4.500000\n",
      "max    12.000000  5.00  6.000000\n",
      "Top-Left-Corner\n",
      "     a  b  c\n",
      "2  12  4  3\n",
      "3   3  2  4\n",
      "4   1  5  6\n",
      "Transpose\n",
      "    1   2  3  4\n",
      "a  1  12  3  1\n",
      "b  2   4  2  5\n",
      "c  3   3  4  6\n",
      "columns\n",
      " Index(['a', 'b', 'c'], dtype='object')\n",
      "columns\n",
      " a\n",
      "columns\n",
      " c\n",
      "COlumns to lost\n",
      " ['a', 'b', 'c']\n",
      "df column as row or list 1     1\n",
      "2    12\n",
      "3     3\n",
      "4     1\n",
      "Name: a, dtype: int64\n",
      "col as df \n",
      "     a  b\n",
      "1   1  2\n",
      "2  12  4\n",
      "3   3  2\n",
      "4   1  5\n"
     ]
    }
   ],
   "source": [
    "import pandas as pd\n",
    "import numpy as np\n",
    "from pandas import DataFrame,Series\n",
    "from matplotlib.pyplot import plot\n",
    "df = pd.DataFrame([\n",
    "    [1,2,3],[12,4,3],[3,2,4],[1,5,6]\n",
    "],index = [1,2,3,4] , columns = [\"a\",\"b\",\"c\"])\n",
    "print(\"dataframe\\n\",df)\n",
    "print(\"info about the dataFrame\\n\",df.info())#info\n",
    "n = 2\n",
    "print(\"Head\\n\",df.head(n))\n",
    "print(\"Tail\\n\",df.tail(n))\n",
    "print(\"Describe\\n\",df.describe())\n",
    "print(\"Top-Left-Corner\\n\",df.iloc[1:4])\n",
    "print(\"Transpose\\n\",df.T)\n",
    "print(\"columns\\n\",df.columns)\n",
    "print(\"columns\\n\",df.columns[0])\n",
    "print(\"columns\\n\",df.columns[2])\n",
    "print(\"COlumns to lost\\n\",df.columns.tolist())\n",
    "print(\"df column as row or list\",df[\"a\"])\n",
    "print(\"df column as  metro \",df[[\"a\"]])\n",
    "print(\"col as df \\n\",df[[\"a\",\"b\"]])"
   ]
  }
 ],
 "metadata": {
  "kernelspec": {
   "display_name": "Python 3",
   "language": "python",
   "name": "python3"
  },
  "language_info": {
   "codemirror_mode": {
    "name": "ipython",
    "version": 3
   },
   "file_extension": ".py",
   "mimetype": "text/x-python",
   "name": "python",
   "nbconvert_exporter": "python",
   "pygments_lexer": "ipython3",
   "version": "3.9.1"
  },
  "orig_nbformat": 4
 },
 "nbformat": 4,
 "nbformat_minor": 2
}
